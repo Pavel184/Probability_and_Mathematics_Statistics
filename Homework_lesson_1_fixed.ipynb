{
 "cells": [
  {
   "cell_type": "markdown",
   "metadata": {},
   "source": [
    "__1.__ Из колоды в 52 карты извлекаются случайным образом 4 карты. \n",
    "a) Найти вероятность того, что все карты – крести. \n",
    "б) Найти вероятность, что среди 4-х карт окажется хотя бы один туз.\n"
   ]
  },
  {
   "cell_type": "code",
   "execution_count": 4,
   "metadata": {},
   "outputs": [
    {
     "data": {
      "text/plain": [
       "0.0026410564225690276"
      ]
     },
     "execution_count": 4,
     "metadata": {},
     "output_type": "execute_result"
    }
   ],
   "source": [
    "from math import factorial\n",
    "def combinations(n, k):\n",
    "    return int(factorial(n) / (factorial(k) * factorial(n - k)))\n",
    "# a)\n",
    "x = combinations(13, 4) # Сочетание 4х карт из 13ти карт крести\n",
    "y =combinations(52, 4) # Сочетание 4х карт из 52х карт\n",
    "p = x/y # Вероятность того, что все карты – крести\n",
    "p # ~0,26%"
   ]
  },
  {
   "cell_type": "code",
   "execution_count": 13,
   "metadata": {},
   "outputs": [
    {
     "data": {
      "text/plain": [
       "0.2812632745405855"
      ]
     },
     "execution_count": 13,
     "metadata": {},
     "output_type": "execute_result"
    }
   ],
   "source": [
    "# б)\n",
    "x1 = combinations(4, 1) # Сочетание 1го из 4х тузов\n",
    "x2 = combinations(4, 2) # Сочетание 2х из 4х тузов\n",
    "x3 = combinations(4, 3) # Сочетание 3х из 4х тузов\n",
    "x4 = combinations(4, 4) # Сочетание 4х из 4х тузов\n",
    "x11 = combinations(48, 3) # Сочетание 3х и3 48ми карт \n",
    "x22 = combinations(48, 2) # Сочетание 2х и3 48ми карт \n",
    "x33 = combinations(48, 1) # Сочетание 1х и3 48ми карт \n",
    "x44 = combinations(48, 0) # Сочетание 0х и3 48ми карт \n",
    "x = x1*x11+x2*x22+x3*x33+x4*x44\n",
    "\n",
    "y =combinations(52, 4) # Сочетание 4х карт из 52х карт\n",
    "p = x/y # Вероятность того, что среди 4-х карт окажется хотя бы один туз\n",
    "p # ~28,12%"
   ]
  },
  {
   "cell_type": "markdown",
   "metadata": {},
   "source": [
    "__2.__ На входной двери подъезда установлен кодовый замок, содержащий десять кнопок с цифрами от 0 до 9. Код содержит три цифры, которые нужно нажать одновременно. Какова вероятность того, что человек, не знающий код, откроет дверь с первой попытки?"
   ]
  },
  {
   "cell_type": "code",
   "execution_count": 8,
   "metadata": {},
   "outputs": [
    {
     "data": {
      "text/plain": [
       "0.008333333333333333"
      ]
     },
     "execution_count": 8,
     "metadata": {},
     "output_type": "execute_result"
    }
   ],
   "source": [
    "x = 1 # Число попыток \n",
    "y = combinations(10, 3) # Сочетание 3х цифр из 10ти\n",
    "p = x/y # Вероятность  того, что человек, не знающий код, откроет дверь с первой попытки\n",
    "p # 1/120"
   ]
  },
  {
   "cell_type": "markdown",
   "metadata": {},
   "source": [
    "__3.__ В ящике имеется 15 деталей, из которых 9 окрашены. Рабочий случайным образом извлекает 3 детали. Какова вероятность того, что все извлеченные детали окрашены?"
   ]
  },
  {
   "cell_type": "code",
   "execution_count": 9,
   "metadata": {},
   "outputs": [
    {
     "data": {
      "text/plain": [
       "0.18461538461538463"
      ]
     },
     "execution_count": 9,
     "metadata": {},
     "output_type": "execute_result"
    }
   ],
   "source": [
    "x = combinations(9, 3) # Сочетание 3х из 9ти окрашеных деталей\n",
    "y =combinations(15, 3) # Сочетание 3х карт из 15ти деталей\n",
    "p = x/y # Вероятность того, что все извлеченные детали окрашены\n",
    "p # ~18,5%"
   ]
  },
  {
   "cell_type": "markdown",
   "metadata": {},
   "source": [
    "__4.__ В лотерее 100 билетов. Из них 2 выигрышных. Какова вероятность того, что 2 приобретенных билета окажутся выигрышными?"
   ]
  },
  {
   "cell_type": "code",
   "execution_count": 10,
   "metadata": {},
   "outputs": [
    {
     "data": {
      "text/plain": [
       "0.00020202020202020202"
      ]
     },
     "execution_count": 10,
     "metadata": {},
     "output_type": "execute_result"
    }
   ],
   "source": [
    "x = combinations(2, 2) # Сочетание 2х из 2х выигрышных билетов\n",
    "y =combinations(100, 2) # Сочетание 2х из 100 билетов\n",
    "p = x/y # Вероятность того, что 2 приобретенных билета окажутся выигрышными\n",
    "p # ~0,02% или 1/4950"
   ]
  }
 ],
 "metadata": {
  "kernelspec": {
   "display_name": "Python 3",
   "language": "python",
   "name": "python3"
  },
  "language_info": {
   "codemirror_mode": {
    "name": "ipython",
    "version": 3
   },
   "file_extension": ".py",
   "mimetype": "text/x-python",
   "name": "python",
   "nbconvert_exporter": "python",
   "pygments_lexer": "ipython3",
   "version": "3.8.3"
  }
 },
 "nbformat": 4,
 "nbformat_minor": 4
}
