{
 "cells": [
  {
   "cell_type": "markdown",
   "metadata": {},
   "source": [
    "__1)__ Известно, что генеральная совокупность распределена нормально со средним квадратическим отклонением, равным 16. Найти доверительный интервал для оценки математического ожидания a с надежностью 0.95, если выборочная средняя M = 80, а объем выборки n = 256."
   ]
  },
  {
   "cell_type": "code",
   "execution_count": 1,
   "metadata": {},
   "outputs": [
    {
     "name": "stdout",
     "output_type": "stream",
     "text": [
      "confidence interval [78.04,81.96] for M=80, a=0.05\n"
     ]
    }
   ],
   "source": [
    "from math import sqrt\n",
    "a = 0.05\n",
    "n = 256\n",
    "M = 80\n",
    "Sigm = 16\n",
    "Z_half_a = 1.96\n",
    "X_min = M - Z_half_a*Sigm/sqrt(n)\n",
    "X_max = M + Z_half_a*Sigm/sqrt(n)\n",
    "print('confidence interval [{1},{2}] for M={3}, a={0}'.format(a, X_min, X_max, M)) \n",
    "# confidence interval [78.04,81.96] for M=80, a=0.05"
   ]
  },
  {
   "cell_type": "markdown",
   "metadata": {},
   "source": [
    "__2)__ В результате 10 независимых измерений некоторой величины X, выполненных с одинаковой точностью,\n",
    "получены опытные данные:\n",
    "6.9, 6.1, 6.2, 6.8, 7.5, 6.3, 6.4, 6.9, 6.7, 6.1\n",
    "Предполагая, что результаты измерений подчинены нормальному закону распределения вероятностей,\n",
    "оценить истинное значение величины X при помощи доверительного интервала, покрывающего это\n",
    "значение с доверительной вероятностью 0,95."
   ]
  },
  {
   "cell_type": "code",
   "execution_count": 2,
   "metadata": {},
   "outputs": [
    {
     "name": "stdout",
     "output_type": "stream",
     "text": [
      "confidence interval [6.27,6.91] for M=6.59, a=0.05\n"
     ]
    }
   ],
   "source": [
    "import numpy as np\n",
    "import statistics as st\n",
    "X = np.array([6.9, 6.1, 6.2, 6.8, 7.5, 6.3, 6.4, 6.9, 6.7, 6.1])\n",
    "Std_X = X.std(ddof=1) # несмещённое СКвО\n",
    "Std_X # = 0.4508\n",
    "Mean_X = st.mean(X) # среднее арифметическое\n",
    "Mean_X # = 6.59\n",
    "a = 0.05\n",
    "n = len(X)\n",
    "v = n-1\n",
    "T_half_a = 2.262\n",
    "X_min = Mean_X - T_half_a*Std_X/sqrt(n)\n",
    "X_max = Mean_X + T_half_a*Std_X/sqrt(n)\n",
    "print('confidence interval [{1},{2}] for M={3}, a={0}'.format(a, round(X_min, 2), round(X_max, 2), Mean_X)) \n",
    "# confidence interval [6.27,6.91] for M=6.59, a=0.05"
   ]
  },
  {
   "cell_type": "markdown",
   "metadata": {},
   "source": [
    "__3)__ Утверждается, что шарики для подшипников, изготовленные автоматическим станком, имеют средний диаметр 17 мм.\n",
    "Используя односторонний критерий с α=0,05, проверить эту гипотезу, если в выборке из n=100 шариков средний диаметр\n",
    "оказался равным 17.5 мм, а дисперсия известна и равна 4 кв.мм."
   ]
  },
  {
   "cell_type": "code",
   "execution_count": 3,
   "metadata": {},
   "outputs": [
    {
     "name": "stdout",
     "output_type": "stream",
     "text": [
      "H_1 is correct\n"
     ]
    }
   ],
   "source": [
    "H_0 = 17\n",
    "H_1 = 17.5\n",
    "n = 100\n",
    "a = 0.05\n",
    "Sigm = 2\n",
    "SE = Sigm/sqrt(n)\n",
    "Z_t = 1.645\n",
    "Z_r = (H_1-H_0)/SE\n",
    "if Z_t*0.93>Z_r:\n",
    "    print(\"H_0 is correct\")\n",
    "elif Z_t*1.03<Z_r:\n",
    "    print(\"H_1 is correct\")\n",
    "else:\n",
    "    print(\"Additional research is required\")\n",
    "# H_1 is correct"
   ]
  },
  {
   "cell_type": "markdown",
   "metadata": {},
   "source": [
    "__4)__ Продавец утверждает, что средний вес пачки печенья составляет 200 г.\n",
    "Из партии извлечена выборка из 10 пачек. Вес каждой пачки составляет:\n",
    "202, 203, 199, 197, 195, 201, 200, 204, 194, 190.\n",
    "Известно, что их веса распределены нормально.\n",
    "Верно ли утверждение продавца, если учитывать, что доверительная вероятность равна 99%?"
   ]
  },
  {
   "cell_type": "code",
   "execution_count": 4,
   "metadata": {},
   "outputs": [
    {
     "name": "stdout",
     "output_type": "stream",
     "text": [
      "H_0 is correct\n"
     ]
    }
   ],
   "source": [
    "H_0 = 200\n",
    "X = np.array([202, 203, 199, 197, 195, 201, 200, 204, 194, 190])\n",
    "Std_X = X.std(ddof=1) # несмещённое СКвО\n",
    "Std_X # = 4.453463\n",
    "Mean_X = st.mean(X) # среднее арифметическое\n",
    "Mean_X # = 198\n",
    "a = 0.01\n",
    "n = len(X)\n",
    "v = n-1\n",
    "T_t = -3.250\n",
    "SE = Std_X/sqrt(n) # ~ 1.408309\n",
    "T_r = (Mean_X-H_0)/SE # ~ -1.420143\n",
    "if T_t*0.97<T_r:\n",
    "    print(\"H_0 is correct\")\n",
    "elif T_t*1.03>T_r:\n",
    "    print(\"H_1 is correct\")\n",
    "else:\n",
    "    print(\"Additional research is required\")\n",
    "# H_0 is correct"
   ]
  }
 ],
 "metadata": {
  "kernelspec": {
   "display_name": "Python 3",
   "language": "python",
   "name": "python3"
  },
  "language_info": {
   "codemirror_mode": {
    "name": "ipython",
    "version": 3
   },
   "file_extension": ".py",
   "mimetype": "text/x-python",
   "name": "python",
   "nbconvert_exporter": "python",
   "pygments_lexer": "ipython3",
   "version": "3.8.3"
  }
 },
 "nbformat": 4,
 "nbformat_minor": 4
}
