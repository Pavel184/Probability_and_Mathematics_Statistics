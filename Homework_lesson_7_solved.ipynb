{
 "cells": [
  {
   "cell_type": "markdown",
   "metadata": {},
   "source": [
    "__1)__ Даны значения величины заработной платы заемщиков банка (zp) и значения их поведенческого кредитного скоринга (ks): zp = [35, 45, 190, 200, 40, 70, 54, 150, 120, 110], ks = [401, 574, 874, 919, 459, 739, 653, 902, 746, 832]. Используя математические операции, посчитать коэффициенты линейной регрессии, приняв за X заработную плату (то есть, zp - признак), а за y - значения скорингового балла (то есть, ks - целевая переменная). Произвести расчет как с использованием intercept, так и без."
   ]
  },
  {
   "cell_type": "code",
   "execution_count": 1,
   "metadata": {},
   "outputs": [
    {
     "data": {
      "text/plain": [
       "2.620538882402765"
      ]
     },
     "execution_count": 1,
     "metadata": {},
     "output_type": "execute_result"
    }
   ],
   "source": [
    "import numpy as np\n",
    "zp = np.array([35, 45, 190, 200, 40, 70, 54, 150, 120, 110])\n",
    "X = zp\n",
    "ks = np.array([401, 574, 874, 919, 459, 739, 653, 902, 746, 832])\n",
    "y = ks\n",
    "n = len(zp) # = 10\n",
    "b = (np.mean(X*y)-np.mean(X)*np.mean(y))/(np.mean(X**2)-np.mean(X)**2)\n",
    "b # ~ 2.620538882402765 for model with intercept"
   ]
  },
  {
   "cell_type": "code",
   "execution_count": 2,
   "metadata": {},
   "outputs": [
    {
     "data": {
      "text/plain": [
       "444.1773573243596"
      ]
     },
     "execution_count": 2,
     "metadata": {},
     "output_type": "execute_result"
    }
   ],
   "source": [
    "a = np.mean(y)-b*np.mean(X)\n",
    "a # ~ 444.1773573243596 intercept"
   ]
  },
  {
   "cell_type": "code",
   "execution_count": 3,
   "metadata": {},
   "outputs": [
    {
     "data": {
      "text/plain": [
       "0.8874900920739162"
      ]
     },
     "execution_count": 3,
     "metadata": {},
     "output_type": "execute_result"
    }
   ],
   "source": [
    "r = b * np.std(X) / np.std(y)\n",
    "r # ~ 0.8874900920739162 for model with intercept"
   ]
  },
  {
   "cell_type": "code",
   "execution_count": 4,
   "metadata": {},
   "outputs": [
    {
     "data": {
      "text/plain": [
       "0.7876386635293682"
      ]
     },
     "execution_count": 4,
     "metadata": {},
     "output_type": "execute_result"
    }
   ],
   "source": [
    "R2 = r**2\n",
    "R2 # ~ 0.7876386635293682 for model with intercept"
   ]
  },
  {
   "cell_type": "code",
   "execution_count": 5,
   "metadata": {},
   "outputs": [
    {
     "data": {
      "text/plain": [
       "array([535.89621821, 562.10160703, 942.07974498, 968.2851338 ,\n",
       "       548.99891262, 627.61507909, 585.68645697, 837.25818968,\n",
       "       758.64202321, 732.43663439])"
      ]
     },
     "execution_count": 5,
     "metadata": {},
     "output_type": "execute_result"
    }
   ],
   "source": [
    "y_hat = a+b*X\n",
    "y_hat # with intercept"
   ]
  },
  {
   "cell_type": "code",
   "execution_count": 6,
   "metadata": {},
   "outputs": [
    {
     "data": {
      "text/plain": [
       "0.7876386635293686"
      ]
     },
     "execution_count": 6,
     "metadata": {},
     "output_type": "execute_result"
    }
   ],
   "source": [
    "R2 = 1-(((y_hat-ks)**2).sum())/(((ks-np.mean(ks))**2).sum())\n",
    "R2 # ~ 0.7876386635293686"
   ]
  },
  {
   "cell_type": "code",
   "execution_count": 7,
   "metadata": {},
   "outputs": [
    {
     "data": {
      "text/plain": [
       "11.46925184356171"
      ]
     },
     "execution_count": 7,
     "metadata": {},
     "output_type": "execute_result"
    }
   ],
   "source": [
    "A_mean = 100 * np.mean(np.abs((y - y_hat) / y))\n",
    "A_mean # ~ 11.46925184356171 for model with intercept"
   ]
  },
  {
   "cell_type": "code",
   "execution_count": 8,
   "metadata": {},
   "outputs": [
    {
     "data": {
      "text/plain": [
       "6470.414201176658"
      ]
     },
     "execution_count": 8,
     "metadata": {},
     "output_type": "execute_result"
    }
   ],
   "source": [
    "mse = ((y-y_hat)**2).sum()/n\n",
    "mse # ~ 6470.414201176658 for model with intercept"
   ]
  },
  {
   "cell_type": "code",
   "execution_count": 9,
   "metadata": {},
   "outputs": [
    {
     "data": {
      "text/plain": [
       "<function matplotlib.pyplot.show(*args, **kw)>"
      ]
     },
     "execution_count": 9,
     "metadata": {},
     "output_type": "execute_result"
    },
    {
     "data": {
      "image/png": "[encoded data removed]",
      "text/plain": [
       "<Figure size 432x288 with 1 Axes>"
      ]
     },
     "metadata": {
      "needs_background": "light"
     },
     "output_type": "display_data"
    }
   ],
   "source": [
    "import matplotlib.pyplot as plt\n",
    "%matplotlib inline\n",
    "plt.scatter(X,y)\n",
    "plt.plot(X,a+b*X)\n",
    "plt.xlabel('zp')\n",
    "plt.ylabel('ks')\n",
    "plt.show"
   ]
  },
  {
   "cell_type": "code",
   "execution_count": 10,
   "metadata": {},
   "outputs": [
    {
     "data": {
      "text/plain": [
       "29.671640859664432"
      ]
     },
     "execution_count": 10,
     "metadata": {},
     "output_type": "execute_result"
    }
   ],
   "source": [
    "F_fact = (r**2 * (n - 2)) / (1 - r**2)\n",
    "F_fact"
   ]
  },
  {
   "cell_type": "code",
   "execution_count": 11,
   "metadata": {},
   "outputs": [
    {
     "data": {
      "text/plain": [
       "array([[ 35],\n",
       "       [ 45],\n",
       "       [190],\n",
       "       [200],\n",
       "       [ 40],\n",
       "       [ 70],\n",
       "       [ 54],\n",
       "       [150],\n",
       "       [120],\n",
       "       [110]])"
      ]
     },
     "execution_count": 11,
     "metadata": {},
     "output_type": "execute_result"
    }
   ],
   "source": [
    "import seaborn as sns\n",
    "X = X.reshape(10,1)\n",
    "#X = np.hstack([np.ones((10,1)),X])\n",
    "X"
   ]
  },
  {
   "cell_type": "code",
   "execution_count": 12,
   "metadata": {},
   "outputs": [
    {
     "data": {
      "text/plain": [
       "array([[401],\n",
       "       [574],\n",
       "       [874],\n",
       "       [919],\n",
       "       [459],\n",
       "       [739],\n",
       "       [653],\n",
       "       [902],\n",
       "       [746],\n",
       "       [832]])"
      ]
     },
     "execution_count": 12,
     "metadata": {},
     "output_type": "execute_result"
    }
   ],
   "source": [
    "y = y.reshape(10,1)\n",
    "y"
   ]
  },
  {
   "cell_type": "code",
   "execution_count": 13,
   "metadata": {},
   "outputs": [
    {
     "data": {
      "text/plain": [
       "array([[5.88982042]])"
      ]
     },
     "execution_count": 13,
     "metadata": {},
     "output_type": "execute_result"
    }
   ],
   "source": [
    "b = np.dot(np.linalg.inv(np.dot(X.T,X)),X.T@y)\n",
    "b # ~ 5.88982042"
   ]
  },
  {
   "cell_type": "code",
   "execution_count": 14,
   "metadata": {},
   "outputs": [
    {
     "data": {
      "text/plain": [
       "array([[ 206.1437147 ,  265.04191891, 1119.06587983, 1177.96408403,\n",
       "         235.59281681,  412.28742941,  318.05030269,  883.47306302,\n",
       "         706.77845042,  647.88024621]])"
      ]
     },
     "execution_count": 14,
     "metadata": {},
     "output_type": "execute_result"
    }
   ],
   "source": [
    "y_hat_no_a = b*zp\n",
    "y_hat_no_a # without intercept"
   ]
  },
  {
   "cell_type": "code",
   "execution_count": 15,
   "metadata": {},
   "outputs": [
    {
     "data": {
      "text/plain": [
       "array([[1.99468793]])"
      ]
     },
     "execution_count": 15,
     "metadata": {},
     "output_type": "execute_result"
    }
   ],
   "source": [
    "r = b * np.std(zp) / np.std(ks)\n",
    "r # ~ 1.99468793 > 1 ???? "
   ]
  },
  {
   "cell_type": "code",
   "execution_count": 16,
   "metadata": {},
   "outputs": [
    {
     "data": {
      "text/plain": [
       "array([[3.97877992]])"
      ]
     },
     "execution_count": 16,
     "metadata": {},
     "output_type": "execute_result"
    }
   ],
   "source": [
    "R2 = r**2\n",
    "R2 # ~ 3.97877992 > 1 ???? "
   ]
  },
  {
   "cell_type": "code",
   "execution_count": 17,
   "metadata": {},
   "outputs": [
    {
     "data": {
      "text/plain": [
       "0.6497254946363845"
      ]
     },
     "execution_count": 17,
     "metadata": {},
     "output_type": "execute_result"
    }
   ],
   "source": [
    "R2 = (((y_hat_no_a-ks)**2).sum())/(((ks-np.mean(ks))**2).sum()+(((y_hat_no_a-ks)**2).sum()))\n",
    "R2 # ~ 0.6497254946363845 ?????"
   ]
  },
  {
   "cell_type": "code",
   "execution_count": 18,
   "metadata": {},
   "outputs": [
    {
     "data": {
      "text/plain": [
       "0.8060555158525897"
      ]
     },
     "execution_count": 18,
     "metadata": {},
     "output_type": "execute_result"
    }
   ],
   "source": [
    "from math import sqrt\n",
    "r = sqrt(R2)\n",
    "r # ~ 0.8060555158525897 ??????"
   ]
  },
  {
   "cell_type": "code",
   "execution_count": 19,
   "metadata": {},
   "outputs": [
    {
     "data": {
      "text/plain": [
       "33.225451661167305"
      ]
     },
     "execution_count": 19,
     "metadata": {},
     "output_type": "execute_result"
    }
   ],
   "source": [
    "A_mean = 100 * np.mean(np.abs((ks - y_hat_no_a) / ks))\n",
    "A_mean # ~ 33.225451661167305 for model without intercept"
   ]
  },
  {
   "cell_type": "code",
   "execution_count": 20,
   "metadata": {},
   "outputs": [
    {
     "data": {
      "text/plain": [
       "56516.8584157194"
      ]
     },
     "execution_count": 20,
     "metadata": {},
     "output_type": "execute_result"
    }
   ],
   "source": [
    "mse = ((ks-y_hat_no_a)**2).sum()/n\n",
    "mse # ~ 56516.8584157194 for model without intercept"
   ]
  },
  {
   "cell_type": "code",
   "execution_count": 21,
   "metadata": {},
   "outputs": [
    {
     "data": {
      "text/plain": [
       "<function matplotlib.pyplot.show(*args, **kw)>"
      ]
     },
     "execution_count": 21,
     "metadata": {},
     "output_type": "execute_result"
    },
    {
     "data": {
      "image/png": "[encoded data removed]",
      "text/plain": [
       "<Figure size 432x288 with 1 Axes>"
      ]
     },
     "metadata": {
      "needs_background": "light"
     },
     "output_type": "display_data"
    }
   ],
   "source": [
    "plt.scatter(X,y)\n",
    "plt.plot(X,b*X)\n",
    "plt.xlabel('zp')\n",
    "plt.ylabel('ks')\n",
    "plt.show"
   ]
  },
  {
   "cell_type": "markdown",
   "metadata": {},
   "source": [
    "__2)__ Посчитать коэффициент линейной регрессии при заработной плате (zp), используя градиентный спуск (без intercept). "
   ]
  },
  {
   "cell_type": "code",
   "execution_count": 22,
   "metadata": {},
   "outputs": [],
   "source": [
    "zp = np.array([35, 45, 190, 200, 40, 70, 54, 150, 120, 110])\n",
    "X = zp\n",
    "ks = np.array([401, 574, 874, 919, 459, 739, 653, 902, 746, 832])\n",
    "y = ks\n",
    "n = len(zp) # = 10"
   ]
  },
  {
   "cell_type": "code",
   "execution_count": 23,
   "metadata": {},
   "outputs": [],
   "source": [
    "def mse_(B1,y=y,X=X,n=n):\n",
    "    return np.sum((B1*X-y)**2)/n"
   ]
  },
  {
   "cell_type": "code",
   "execution_count": 24,
   "metadata": {},
   "outputs": [
    {
     "data": {
      "text/plain": [
       "1e-06"
      ]
     },
     "execution_count": 24,
     "metadata": {},
     "output_type": "execute_result"
    }
   ],
   "source": [
    "alpha = 1e-6\n",
    "alpha"
   ]
  },
  {
   "cell_type": "code",
   "execution_count": 25,
   "metadata": {},
   "outputs": [],
   "source": [
    "B1 = 0.1"
   ]
  },
  {
   "cell_type": "code",
   "execution_count": 26,
   "metadata": {},
   "outputs": [
    {
     "name": "stdout",
     "output_type": "stream",
     "text": [
      "Iteration: 100, B1=5.535619041013072, mse=58245.2515982716\n",
      "Iteration: 200, B1=5.868151593145588, mse=56523.327053798086\n",
      "Iteration: 300, B1=5.888494795528504, mse=56516.882625071215\n",
      "Iteration: 400, B1=5.8897393229605965, mse=56516.85850632468\n",
      "Iteration: 500, B1=5.889815458885515, mse=56516.858416058494\n",
      "Iteration: 513, B1=5.889816969911528, mse=56516.8584158834\n"
     ]
    }
   ],
   "source": [
    "count = 0\n",
    "B_prev = 10\n",
    "while count <= 3000 and abs(B_prev - B1) >= 0.0000001:\n",
    "    B_prev = B1\n",
    "    B1 -= alpha*(2/n)*np.sum((B1*X-y)*X)\n",
    "    count = count + 1\n",
    "    if count%100 == 0:\n",
    "        print('Iteration: {count}, B1={B1}, mse={mse}'.format(count=count, B1=B1, mse=mse_(B1)))\n",
    "print('Iteration: {count}, B1={B1}, mse={mse}'.format(count=count, B1=B1, mse=mse_(B1)))\n",
    "# Iteration: 513, B1=5.889816969911528, mse=56516.8584158834"
   ]
  },
  {
   "cell_type": "markdown",
   "metadata": {},
   "source": [
    "__*3__ Произвести вычисления как в пункте 2, но с вычислением intercept. Учесть, что изменение коэффициентов должно производиться на каждом шаге одновременно (то есть изменение одного коэффициента не должно влиять на изменение другого во время одной итерации)."
   ]
  },
  {
   "cell_type": "code",
   "execution_count": 27,
   "metadata": {},
   "outputs": [],
   "source": [
    "def mse_(B1,B0,y=y,X=X,n=n):\n",
    "    return np.sum((B0+B1*X-y)**2)/n"
   ]
  },
  {
   "cell_type": "code",
   "execution_count": 28,
   "metadata": {},
   "outputs": [
    {
     "name": "stdout",
     "output_type": "stream",
     "text": [
      "Iteration: 500, B1=2.544949314214166, B0=451.896087907977 mse=6490.384725593585\n",
      "Iteration: 1000, B1=2.6182719930249307, B0=444.40883778905425 mse=6470.432162006379\n",
      "Iteration: 1500, B1=2.620470899643051, B0=444.1842992955752 mse=6470.41421733004\n",
      "Iteration: 2000, B1=2.6205368436373697, B0=444.1775655102401 mse=6470.414201191188\n",
      "Iteration: 2500, B1=2.6205388212613188, B0=444.17736356773895 mse=6470.414201176673\n",
      "Iteration: 3000, B1=2.620538880569169, B0=444.1773575115949 mse=6470.414201176659\n",
      "Iteration: 3037, B1=2.620538880988277, B0=444.1773574687982 mse=6470.414201176662\n"
     ]
    }
   ],
   "source": [
    "B1 = 0.1\n",
    "B0 = 0\n",
    "count = 0\n",
    "B_prev = 10\n",
    "while count <= 5000 and abs(B_prev - B1) >= 0.00000000001:\n",
    "    B_prev = B1\n",
    "    B0 = np.mean(y)-B1*np.mean(X)\n",
    "    B1 -= alpha*(2/n)*np.sum((B0+B1*X-y)*X)\n",
    "    count = count + 1\n",
    "    if count%500 == 0:\n",
    "        print('Iteration: {count}, B1={B1}, B0={B0} mse={mse}'.format(count=count, B1=B1, B0=B0, mse=mse_(B1,B0)))\n",
    "print('Iteration: {count}, B1={B1}, B0={B0} mse={mse}'.format(count=count, B1=B1, B0=B0, mse=mse_(B1,B0)))\n",
    "# Iteration: 3037, B1=2.620538880988277, B0=444.1773574687982 mse=6470.414201176662"
   ]
  },
  {
   "cell_type": "code",
   "execution_count": 44,
   "metadata": {},
   "outputs": [
    {
     "data": {
      "text/plain": [
       "7e-05"
      ]
     },
     "execution_count": 44,
     "metadata": {},
     "output_type": "execute_result"
    }
   ],
   "source": [
    "alpha = 7e-5\n",
    "alpha"
   ]
  },
  {
   "cell_type": "code",
   "execution_count": 48,
   "metadata": {},
   "outputs": [
    {
     "name": "stdout",
     "output_type": "stream",
     "text": [
      "Iteration: 50000, B1=3.174136015346585, B0=368.962202571725 mse=7905.477645719419\n",
      "Iteration: 100000, B1=2.714291724230331, B0=431.4395122617205 mse=6511.572016963726\n",
      "Iteration: 150000, B1=2.636416123861725, B0=442.0201764028649 mse=6471.594612960403\n",
      "Iteration: 200000, B1=2.6232277267239863, B0=443.8120341864832 mse=6470.448055547999\n",
      "Iteration: 250000, B1=2.6209942438584775, B0=444.1154890806106 mse=6470.415172124656\n",
      "Iteration: 300000, B1=2.6206159988255218, B0=444.16687980681763 mse=6470.414229023581\n",
      "Iteration: 350000, B1=2.6205519422315624, B0=444.1755829346716 mse=6470.414201975313\n",
      "Iteration: 400000, B1=2.620541094112316, B0=444.1770568277235 mse=6470.414201199562\n",
      "Iteration: 450000, B1=2.6205392569604267, B0=444.1773064346226 mse=6470.4142011773165\n",
      "Iteration: 458037, B1=2.620539163952054, B0=444.1773190713195 mse=6470.414201177029\n"
     ]
    }
   ],
   "source": [
    "B1 = 0.1\n",
    "B0 = 0\n",
    "count = 0\n",
    "B_prev = 10\n",
    "B_prev_0 = 10\n",
    "while count <= 500000 and abs(B_prev - B1) >= 0.00000000001 and abs(B_prev_0 - B0) >= 0.00000000001:\n",
    "    B_prev = B1\n",
    "    B_prev_0 = B0\n",
    "    B0 -= alpha*(2/n)*np.sum((B0+B1*X-y))\n",
    "    B1 -= alpha*(2/n)*np.sum((B0+B1*X-y)*X)\n",
    "    count = count + 1\n",
    "    if count%50000 == 0:\n",
    "        print('Iteration: {count}, B1={B1}, B0={B0} mse={mse}'.format(count=count, B1=B1, B0=B0, mse=mse_(B1,B0)))\n",
    "print('Iteration: {count}, B1={B1}, B0={B0} mse={mse}'.format(count=count, B1=B1, B0=B0, mse=mse_(B1,B0)))\n",
    "# Iteration: 3037, B1=2.620538880988277, B0=444.1773574687982 mse=6470.414201176662"
   ]
  },
  {
   "cell_type": "code",
   "execution_count": null,
   "metadata": {},
   "outputs": [],
   "source": []
  }
 ],
 "metadata": {
  "kernelspec": {
   "display_name": "Python 3",
   "language": "python",
   "name": "python3"
  },
  "language_info": {
   "codemirror_mode": {
    "name": "ipython",
    "version": 3
   },
   "file_extension": ".py",
   "mimetype": "text/x-python",
   "name": "python",
   "nbconvert_exporter": "python",
   "pygments_lexer": "ipython3",
   "version": "3.8.3"
  }
 },
 "nbformat": 4,
 "nbformat_minor": 4
}
